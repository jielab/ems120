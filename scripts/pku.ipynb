{
 "cells": [
  {
   "cell_type": "markdown",
   "id": "jewish-panama",
   "metadata": {},
   "source": [
    "# 读取原始excel"
   ]
  },
  {
   "cell_type": "code",
   "execution_count": null,
   "id": "worthy-investing",
   "metadata": {},
   "outputs": [],
   "source": [
    "try:\n",
    "    df = pd.read_excel(path, skiprows=4)\n",
    "    df = df[df.来电类型=='急救派车']\n",
    "except:\n",
    "    df = pd.read_excel(path)\n",
    "    df = df[df.来电类型=='急救派车']\n",
    "    \n",
    "df.dropna(axis=0, subset = [\"接车地址\", \"出车时间\", \"病史\"], how='all', inplace=True)\n",
    "df = df[~df.送达时间.isnull()]"
   ]
  },
  {
   "cell_type": "markdown",
   "id": "macro-evidence",
   "metadata": {},
   "source": [
    "# 时间"
   ]
  },
  {
   "cell_type": "code",
   "execution_count": null,
   "id": "straight-nickel",
   "metadata": {},
   "outputs": [],
   "source": [
    "df['受理时间'] = pd.to_datetime(df['受理时间'])\n",
    "df['出车时间'] = pd.to_datetime(df['出车时间'])\n",
    "df['到达现场时间'] = pd.to_datetime(df['到达现场时间'])\n",
    "df['上车时间'] = pd.to_datetime(df['上车时间'])\n",
    "df['送达时间'] = pd.to_datetime(df['送达时间'])\n",
    "\n",
    "df['time1'] = (df['出车时间']-df['受理时间']).dt.seconds #受理调度时间\n",
    "df['time2'] = (df['到达现场时间']-df['出车时间']).dt.seconds #去程在途时间\n",
    "df['time3'] = (df['上车时间']-df['到达现场时间']).dt.seconds #现场停车时间\n",
    "df['time4'] = (df['送达时间']-df['上车时间']).dt.seconds #返程在途时间\n",
    "df['急救反应时间'] = df['time1']+df['time2']+df['time3']+df['time4']"
   ]
  },
  {
   "cell_type": "markdown",
   "id": "adapted-johns",
   "metadata": {},
   "source": [
    "# 与急救站地址表进行合并"
   ]
  },
  {
   "cell_type": "code",
   "execution_count": null,
   "id": "naughty-responsibility",
   "metadata": {},
   "outputs": [],
   "source": [
    "station = pd.read_csv('急救站_gps_WGSchecked.csv')\n",
    "df['分站lng'] = -1\n",
    "df['分站lat'] = -1\n",
    "for s in df.所属分站.unique():\n",
    "    lng, lat = station[station['120急救记录中的对应分站名称']==s].values[0][-2:]\n",
    "    df.loc[df.所属分站==s,'分站lng'] = lng\n",
    "    df.loc[df.所属分站==s,'分站lat'] = lat"
   ]
  },
  {
   "cell_type": "markdown",
   "id": "greenhouse-charleston",
   "metadata": {},
   "source": [
    "# 年龄"
   ]
  },
  {
   "cell_type": "code",
   "execution_count": null,
   "id": "vietnamese-arrest",
   "metadata": {},
   "outputs": [],
   "source": [
    "tmp = df[~df.病人年龄.isnull()]\n",
    "tmp['年龄'] = tmp['病人年龄'].apply(lambda x:round(eval(x.replace('+','').replace('-','').replace(',','.'))))"
   ]
  },
  {
   "cell_type": "code",
   "execution_count": null,
   "id": "empty-logan",
   "metadata": {},
   "outputs": [],
   "source": [
    "#统计各年龄数量\n",
    "res = pd.DataFrame(tmp['年龄'].value_counts().sort_index().reset_index())\n",
    "res.columns = ['年龄','数量']"
   ]
  },
  {
   "cell_type": "code",
   "execution_count": null,
   "id": "incredible-cartoon",
   "metadata": {},
   "outputs": [],
   "source": [
    "#统计各年龄段数量\n",
    "ages = ['0-5', '5-18', '18-40', '40-60', '60-']\n",
    "\n",
    "def age_to_str(age):\n",
    "    if 0<= age < 5:\n",
    "        return '00-05'\n",
    "    if 5<= age < 18:\n",
    "        return '05-18'\n",
    "    if 18<= age < 40:\n",
    "        return '18-40'\n",
    "    if 40<= age < 60:\n",
    "        return '40-60'\n",
    "    if 60<= age:\n",
    "        return '60-120'\n",
    "\n",
    "res = pd.DataFrame(tmp['年龄'].apply(age_to_str).value_counts().sort_index().reset_index())\n",
    "res.columns = ['年龄段','数量']"
   ]
  },
  {
   "cell_type": "markdown",
   "id": "retained-seating",
   "metadata": {},
   "source": [
    "# 经纬度爬取"
   ]
  },
  {
   "cell_type": "code",
   "execution_count": null,
   "id": "bronze-rhythm",
   "metadata": {},
   "outputs": [],
   "source": [
    "x_pi = 3.14159265358979324 * 3000.0 / 180.0\n",
    "pi = 3.1415926535897932384626  # π\n",
    "a = 6378245.0  # 长半轴\n",
    "ee = 0.00669342162296594323  # 扁率\n",
    "\n",
    "def gcj02towgs84(lng, lat):\n",
    "    \"\"\"\n",
    "    GCJ02(火星坐标系)转GPS84\n",
    "    :param lng:火星坐标系的经度\n",
    "    :param lat:火星坐标系纬度\n",
    "    :return:\n",
    "    \"\"\"\n",
    "    dlat = transformlat(lng - 105.0, lat - 35.0)\n",
    "    dlng = transformlng(lng - 105.0, lat - 35.0)\n",
    "    radlat = lat / 180.0 * pi\n",
    "    magic = math.sin(radlat)\n",
    "    magic = 1 - ee * magic * magic\n",
    "    sqrtmagic = math.sqrt(magic)\n",
    "    dlat = (dlat * 180.0) / ((a * (1 - ee)) / (magic * sqrtmagic) * pi)\n",
    "    dlng = (dlng * 180.0) / (a / sqrtmagic * math.cos(radlat) * pi)\n",
    "    mglat = lat + dlat\n",
    "    mglng = lng + dlng\n",
    "    return [lng * 2 - mglng, lat * 2 - mglat]\n",
    "\n",
    "def transformlat(lng, lat):\n",
    "    ret = -100.0 + 2.0 * lng + 3.0 * lat + 0.2 * lat * lat + \\\n",
    "        0.1 * lng * lat + 0.2 * math.sqrt(math.fabs(lng))\n",
    "    ret += (20.0 * math.sin(6.0 * lng * pi) + 20.0 *\n",
    "            math.sin(2.0 * lng * pi)) * 2.0 / 3.0\n",
    "    ret += (20.0 * math.sin(lat * pi) + 40.0 *\n",
    "            math.sin(lat / 3.0 * pi)) * 2.0 / 3.0\n",
    "    ret += (160.0 * math.sin(lat / 12.0 * pi) + 320 *\n",
    "            math.sin(lat * pi / 30.0)) * 2.0 / 3.0\n",
    "    return ret\n",
    "\n",
    "def transformlng(lng, lat):\n",
    "    ret = 300.0 + lng + 2.0 * lat + 0.1 * lng * lng + \\\n",
    "        0.1 * lng * lat + 0.1 * math.sqrt(math.fabs(lng))\n",
    "    ret += (20.0 * math.sin(6.0 * lng * pi) + 20.0 *\n",
    "            math.sin(2.0 * lng * pi)) * 2.0 / 3.0\n",
    "    ret += (20.0 * math.sin(lng * pi) + 40.0 *\n",
    "            math.sin(lng / 3.0 * pi)) * 2.0 / 3.0\n",
    "    ret += (150.0 * math.sin(lng / 12.0 * pi) + 300.0 *\n",
    "            math.sin(lng / 30.0 * pi)) * 2.0 / 3.0\n",
    "    return ret\n",
    "\n",
    "\n",
    "def get_addr(addr): \n",
    "    api_addr = 'http://api.map.baidu.com/geocoding/v3/?address='+addr+'&city=深圳&output=json&ret_coordtype=gcj02ll&ak=Wd1bXVfKlevK7MFQQ44olbAy4bFPUtxI'\n",
    "    req = requests.get(api_addr)\n",
    "    response = req.text\n",
    "    response = json.loads(response)\n",
    "    lng, lat = list(response['result']['location'].values())\n",
    "    lng, lat = gcj02towgs84(lng, lat)\n",
    "    return lng, lat\n",
    "\n",
    "\n",
    "df['lng'] = 0\n",
    "df['lat'] = 0"
   ]
  },
  {
   "cell_type": "code",
   "execution_count": null,
   "id": "victorian-apollo",
   "metadata": {},
   "outputs": [],
   "source": [
    "for i in tqdm(range(len(df))):\n",
    "    addr = df.loc[i,'接车地址']\n",
    "    if df.loc[i,'lng'] == 0:\n",
    "        try:\n",
    "            lng, lat = get_addr(addr)        \n",
    "            df.loc[i,'lng'] = lng\n",
    "            df.loc[i,'lat'] = lat\n",
    "        except:\n",
    "            pass\n",
    "#可能一天限额不够，跑完一轮需要第二天跑第二轮"
   ]
  },
  {
   "cell_type": "code",
   "execution_count": null,
   "id": "level-perception",
   "metadata": {},
   "outputs": [],
   "source": [
    "df = df[df.lng!=0] #用之前确保等于0的是爬不出地址的，而不是因为额度不够没爬到的"
   ]
  },
  {
   "cell_type": "markdown",
   "id": "usual-gnome",
   "metadata": {},
   "source": [
    "# 地址类别推断"
   ]
  },
  {
   "cell_type": "code",
   "execution_count": null,
   "id": "possible-report",
   "metadata": {},
   "outputs": [],
   "source": [
    "import torch\n",
    "import torch.nn as nn\n",
    "import torch.nn.functional as F\n",
    "from torch.utils.data import Dataset, DataLoader\n",
    "from tqdm import tqdm\n",
    "from transformers import BertModel, BertTokenizer\n",
    "\n",
    "device = torch.device('cuda' if torch.cuda.is_available() else 'cpu')"
   ]
  },
  {
   "cell_type": "code",
   "execution_count": null,
   "id": "dress-membrane",
   "metadata": {},
   "outputs": [],
   "source": [
    "class Model(nn.Module):\n",
    "    def __init__(self, num_classes):\n",
    "        super(Model, self).__init__()\n",
    "        self.bert = BertModel.from_pretrained(MODEL_NAME, return_dict=False)\n",
    "        self.fc = nn.Linear(self.bert.config.hidden_size, num_classes)\n",
    "\n",
    "    def forward(self, input_ids, attention_mask):\n",
    "        _, out = self.bert(input_ids, attention_mask=attention_mask)\n",
    "        y = self.fc(out)\n",
    "        return y"
   ]
  },
  {
   "cell_type": "code",
   "execution_count": null,
   "id": "final-detective",
   "metadata": {},
   "outputs": [],
   "source": [
    "MODEL_NAME = 'hfl/chinese-roberta-wwm-ext-large'\n",
    "\n",
    "tokenizer = BertTokenizer.from_pretrained(MODEL_NAME)\n",
    "\n",
    "model = Model(13).to(device)\n",
    "model.load_state_dict(torch.load('roberta_bus_9513.pt', map_location=device), strict=False)\n",
    "model.eval()\n",
    "\n",
    "label = []\n",
    "\n",
    "for d in tqdm(df.现场地址.values):\n",
    "    text = d\n",
    "    x = tokenizer(text, return_tensors=\"pt\")\n",
    "    input_ids = x['input_ids']\n",
    "    attention_mask = x['attention_mask']\n",
    "    input_ids, attention_mask = input_ids.to(device), attention_mask.to(device)\n",
    "    output = model(input_ids, attention_mask).argmax(1).cpu().numpy()\n",
    "    label.append(output)\n",
    "    \n",
    "df['地址类型'] = np.array(label).squeeze(-1)\n",
    "\n",
    "labels = ['bus stop',\n",
    "         'public',\n",
    "         'work',\n",
    "         'home',\n",
    "         'transportation',\n",
    "         'hotel',\n",
    "         'clinic',\n",
    "         'recreation',\n",
    "         'jail',\n",
    "         'nursing',\n",
    "         'education',\n",
    "         'street',\n",
    "         'sport']\n",
    "#也可以改成中文名\n",
    "\n",
    "df['地址类型'] = df['地址类型'].apply(lambda x:labels[x])"
   ]
  },
  {
   "cell_type": "markdown",
   "id": "advised-press",
   "metadata": {},
   "source": [
    "# 疾病分类"
   ]
  },
  {
   "cell_type": "code",
   "execution_count": null,
   "id": "boxed-laptop",
   "metadata": {},
   "outputs": [],
   "source": [
    "df['text'] = df['病人性别']+'[SEP]'+df['病人年龄']+'[SEP]'+\\\n",
    "            df['病情(主诉)']+'[SEP]'+df['病史']+'[SEP]'+df['主要体征']+'[SEP]'+\\\n",
    "            df['初步诊断']+'[SEP]'+df['补充诊断']\n",
    "df['label1'] = -1\n",
    "df['label2'] = -1\n",
    "\n",
    "#老数据\n",
    "train_df['text'] = train_df['病人性别']+'[SEP]'+train_df['病人年龄']+'[SEP]'+\\\n",
    "            train_df['病情(主诉)']+'[SEP]'+train_df['病史']+'[SEP]'+train_df['主要体征']+\\\n",
    "                '[SEP]'+train_df['初步诊断']+'[SEP]'+train_df['初步诊断2']\n",
    "\n",
    "#新数据\n",
    "df['text'] = df['性别']+'[SEP]'+df['age']+'[SEP]'+\\\n",
    "             df['主诉'].astype(str)+'[SEP]'+df['现病史'].astype(str)+'[SEP]'+\\\n",
    "             df['初步诊断'].astype(str)+'[SEP]'+df['补充诊断'].astype(str)+df['呼救原因']"
   ]
  },
  {
   "cell_type": "code",
   "execution_count": null,
   "id": "indian-exhibition",
   "metadata": {},
   "outputs": [],
   "source": [
    "CFG = {\n",
    "    'fold_num': 5,\n",
    "    'seed': 42,\n",
    "    'model': 'hfl/chinese-macbert-base',\n",
    "    'max_len': 300, \n",
    "    'epochs': 10,\n",
    "    'train_bs': 32, \n",
    "    'valid_bs': 32,\n",
    "    'lr': 2e-5, \n",
    "    'num_workers': 4,\n",
    "    'accum_iter': 1, \n",
    "    'weight_decay': 1e-6, \n",
    "    'device': 0,\n",
    "}"
   ]
  },
  {
   "cell_type": "code",
   "execution_count": null,
   "id": "sustained-shore",
   "metadata": {},
   "outputs": [],
   "source": [
    "labels1 = ['儿科',\n",
    " '其他',\n",
    " '内分泌系统疾病',\n",
    " '创伤',\n",
    " '呼吸系统疾病',\n",
    " '妇产科',\n",
    " '心脏骤停',\n",
    " '心血管系统疾病',\n",
    " '感染性疾病',\n",
    " '泌尿系统疾病',\n",
    " '消化系统疾病',\n",
    " '理化中毒',\n",
    " '神经系统疾病',\n",
    " '精神病']\n",
    "labels2 = ['儿科',\n",
    " '其他-休克',\n",
    " '其他-其他症状',\n",
    " '其他-意识不清',\n",
    " '其他-昏迷',\n",
    " '其他-死亡',\n",
    " '其他-胸闷',\n",
    " '内分泌系统疾病',\n",
    " '创伤-交通事故',\n",
    " '创伤-其他原因',\n",
    " '创伤-暴力事件',\n",
    " '创伤-跌倒',\n",
    " '创伤-高处坠落',\n",
    " '呼吸系统疾病',\n",
    " '妇产科',\n",
    " '心脏骤停',\n",
    " '心血管系统疾病-其他疾病',\n",
    " '心血管系统疾病-胸痛',\n",
    " '感染性疾病',\n",
    " '泌尿系统疾病',\n",
    " '消化系统疾病',\n",
    " '理化中毒',\n",
    " '神经系统疾病-其他疾病',\n",
    " '神经系统疾病-脑卒中',\n",
    " '精神病']"
   ]
  },
  {
   "cell_type": "code",
   "execution_count": null,
   "id": "confused-equality",
   "metadata": {},
   "outputs": [],
   "source": [
    "class MyDataset(Dataset):\n",
    "    def __init__(self, dataframe):\n",
    "        self.df = dataframe\n",
    "    \n",
    "    def __len__(self):\n",
    "        return len(self.df)\n",
    "    \n",
    "    def __getitem__(self, idx):\n",
    "        text = str(self.df.text.values[idx])\n",
    "        \n",
    "        label1 = int(self.df.label1.values[idx])\n",
    "        label2 = int(self.df.label2.values[idx])\n",
    "\n",
    "        coarse_label = label1\n",
    "        fine_label = label2\n",
    " \n",
    "        return text, coarse_label, fine_label"
   ]
  },
  {
   "cell_type": "code",
   "execution_count": null,
   "id": "confused-apparel",
   "metadata": {},
   "outputs": [],
   "source": [
    "class Model(nn.Module):\n",
    "\n",
    "    def __init__(self, CFG):\n",
    "        super(Model, self).__init__()\n",
    "        self.bert = BertModel.from_pretrained(CFG['model'])\n",
    "        self.dropout = nn.Dropout(0.5)\n",
    "        self.fc1 = nn.Linear(self.bert.config.hidden_size, 14)\n",
    "        self.fc2 = nn.Linear(self.bert.config.hidden_size, 25)\n",
    " \n",
    "    def forward(self, input_ids, attention_mask):\n",
    "        text = self.bert(input_ids=input_ids, attention_mask=attention_mask)[1]\n",
    "        y1 = self.fc1(text)\n",
    "        y2 = self.fc2(text)\n",
    "        return y1, y2"
   ]
  },
  {
   "cell_type": "code",
   "execution_count": null,
   "id": "initial-parks",
   "metadata": {},
   "outputs": [],
   "source": [
    "def collate_fn(data):\n",
    "    text = tokenizer([x[0] for x in data], padding='max_length', truncation=True, max_length=CFG['max_len'], return_tensors='pt')\n",
    "    input_ids = text['input_ids']\n",
    "    attention_mask = text['attention_mask']\n",
    "    label1 = torch.LongTensor([x[1] for x in data])\n",
    "    label2 = torch.LongTensor([x[2] for x in data])\n",
    "    return input_ids, attention_mask, label1, label2"
   ]
  },
  {
   "cell_type": "code",
   "execution_count": null,
   "id": "cross-stock",
   "metadata": {},
   "outputs": [],
   "source": [
    "test_set = MyDataset(df)\n",
    "test_loader = DataLoader(test_set, batch_size=CFG['valid_bs'], collate_fn=collate_fn, shuffle=False, num_workers=4)\n",
    "\n",
    "tokenizer = BertTokenizer.from_pretrained(CFG['model'])"
   ]
  },
  {
   "cell_type": "code",
   "execution_count": null,
   "id": "pacific-shepherd",
   "metadata": {},
   "outputs": [],
   "source": [
    "model = Model(CFG).to(device)\n",
    "model.load_state_dict(torch.load('../疾病分类/{}.pt'.format(CFG['model'].split('/')[-1])))\n",
    "model.eval()\n",
    "    \n",
    "    \n",
    "pred = []\n",
    "with torch.no_grad():\n",
    "    tk = tqdm(test_loader, total=len(test_loader), position=0, leave=True)\n",
    "    for step, batch in enumerate(tk):\n",
    "        input_ids, attention_mask, y1, y2 = [x.to(device) for x in batch]\n",
    "\n",
    "        _,output = model(input_ids, attention_mask)\n",
    "        output = output.softmax(1).cpu().numpy()\n",
    "        \n",
    "        pred.extend(output)"
   ]
  },
  {
   "cell_type": "code",
   "execution_count": null,
   "id": "complimentary-resolution",
   "metadata": {},
   "outputs": [],
   "source": [
    "pred = np.array(pred)\n",
    "df['disease_label'] = pred.argmax(1)\n",
    "df['disease_label'] = df['disease_label'].apply(lambda x:labels2[x])"
   ]
  },
  {
   "cell_type": "markdown",
   "id": "positive-thickness",
   "metadata": {},
   "source": [
    "# 一些基本属性的统计方法"
   ]
  },
  {
   "cell_type": "markdown",
   "id": "yellow-niagara",
   "metadata": {},
   "source": [
    "性别 value_counts()\n",
    "\n",
    "疾病类型 value_counts().sort_values()\n",
    "\n",
    "时、日、月 pd.DatetimeIndex(df['受理时间']).hour/weekday/month.value_counts().sort_index()\n",
    "\n",
    "地址坐标 跳过，应该在地图可视化里\n",
    "\n",
    "地址类型 value_counts().sort_values()\n",
    "\n",
    "急救反应时间等 hist直方图"
   ]
  },
  {
   "cell_type": "markdown",
   "id": "valued-bride",
   "metadata": {},
   "source": [
    "# 关联分析"
   ]
  },
  {
   "cell_type": "code",
   "execution_count": null,
   "id": "bibliographic-chassis",
   "metadata": {},
   "outputs": [],
   "source": [
    "# 时间-空间\n",
    "for a in df.addr_label.unique():\n",
    "    tmp = df[df.addr_label==a]\n",
    "    res = pd.DataFrame(pd.DatetimeIndex(tmp['受理时间']).hour.value_counts().sort_index().reset_index())\n",
    "    res.columns = ['小时','数量']\n",
    "    #hour可改成weekday,month\n",
    "\n",
    "# 时间-性别\n",
    "for a in df.病人性别.unique(): #for a in ['男','女']:\n",
    "    tmp = df[df.病人性别==a]\n",
    "    res = pd.DataFrame(pd.DatetimeIndex(tmp['受理时间']).hour.value_counts().sort_index().reset_index())\n",
    "    res.columns = ['小时','数量']\n",
    "    #hour可改成weekday,month\n",
    "\n",
    "# 时间-性别\n",
    "df['年龄段'] = df.年龄.apply(age_to_str)\n",
    "for a in df.年龄段.unique():\n",
    "    tmp = df[df.年龄段==a]\n",
    "    res = pd.DataFrame(pd.DatetimeIndex(tmp['受理时间']).hour.value_counts().sort_index().reset_index())\n",
    "    res.columns = ['小时','数量']\n",
    "    #hour可改成weekday,month\n",
    "\n",
    "# 时间-病理学\n",
    "for a in df.disease_label.unique():\n",
    "    tmp = df[df.disease_label==a]\n",
    "    res = pd.DataFrame(pd.DatetimeIndex(tmp['受理时间']).hour.value_counts().sort_index().reset_index())\n",
    "    res.columns = ['小时','数量']\n",
    "    #hour可改成weekday,month\n",
    "\n",
    "# 时间-效率\n",
    "df['hour'] = pd.DatetimeIndex(df['受理时间']).hour\n",
    "res = []\n",
    "for x in df.hour.unique():\n",
    "    y = df[df.hour==x]['time'].mean()\n",
    "    res.append([x,y])\n",
    "res = pd.DataFrame(res)\n",
    "res.columns = ['hour','急救反应时间']\n",
    "#hour可改成weekday,month\n",
    "\n",
    "# 时间-急救站\n",
    "for a in df.所属分站.unique():\n",
    "    tmp = df[df.所属分站==a]\n",
    "    res = pd.DataFrame(pd.DatetimeIndex(tmp['受理时间']).hour.value_counts().sort_index().reset_index())\n",
    "    res.columns = ['小时','数量']\n",
    "    #hour可改成weekday,month"
   ]
  },
  {
   "cell_type": "markdown",
   "id": "artistic-dayton",
   "metadata": {},
   "source": [
    "## 基本思路\n",
    "\n",
    "如果不涉及效率，那么就是两个属性x和y。对每个取值x遍历，计算x下y的value_counts()\n",
    "\n",
    "如果涉及效率，把效率（各环节时间）当做y。对每个取值x遍历，计算x下y平均值"
   ]
  },
  {
   "cell_type": "code",
   "execution_count": null,
   "id": "rough-facility",
   "metadata": {},
   "outputs": [],
   "source": []
  }
 ],
 "metadata": {
  "kernelspec": {
   "display_name": "Python 3.9.12 ('base')",
   "language": "python",
   "name": "python3"
  },
  "language_info": {
   "codemirror_mode": {
    "name": "ipython",
    "version": 3
   },
   "file_extension": ".py",
   "mimetype": "text/x-python",
   "name": "python",
   "nbconvert_exporter": "python",
   "pygments_lexer": "ipython3",
   "version": "3.9.12"
  },
  "vscode": {
   "interpreter": {
    "hash": "8786b6063cfece231a5322e1682156f46064a2ee9a58fc48d8edb4720863f26b"
   }
  }
 },
 "nbformat": 4,
 "nbformat_minor": 5
}
